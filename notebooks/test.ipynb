{
 "cells": [
  {
   "cell_type": "code",
   "execution_count": 1,
   "metadata": {},
   "outputs": [],
   "source": [
    "import torch\n",
    "import torch.nn as nn\n",
    "import torch.optim as optim\n",
    "import transformers\n",
    "from transformers import BertModel, BertTokenizer\n",
    "import torch.nn.functional as F\n",
    "\n"
   ]
  },
  {
   "cell_type": "code",
   "execution_count": 2,
   "metadata": {},
   "outputs": [],
   "source": [
    "# Define the architecture of your MLP projection layer\n",
    "class MLPProjection(nn.Module):\n",
    "    def __init__(self, input_size, hidden_size, num_layers):\n",
    "        super(MLPProjection, self).__init__()\n",
    "        self.input_size = input_size\n",
    "        self.hidden_size = hidden_size\n",
    "        self.num_layers = num_layers\n",
    "\n",
    "        # Define list to hold linear layers\n",
    "        self.linear_layers = nn.ModuleList()\n",
    "\n",
    "        # Add the first linear layer\n",
    "        self.linear_layers.append(nn.Linear(input_size, hidden_size))\n",
    "\n",
    "        # Add additional linear layers\n",
    "        for _ in range(num_layers - 1):\n",
    "            self.linear_layers.append(nn.Linear(hidden_size, hidden_size))\n",
    "\n",
    "        # GELU activation function\n",
    "        self.activation = nn.GELU()\n",
    "\n",
    "    def forward(self, x):\n",
    "        for linear_layer in self.linear_layers:\n",
    "            x = self.activation(linear_layer(x))\n",
    "        return x\n",
    "# Define a simple encoder model\n",
    "class SimpleEncoder(nn.Module):\n",
    "    def __init__(self, input_size, output_size):\n",
    "        super(SimpleEncoder, self).__init__()\n",
    "        self.fc = nn.Linear(input_size, output_size)\n",
    "        self.output_size = output_size\n",
    "    \n",
    "    def forward(self, x):\n",
    "        x = self.fc(x)\n",
    "        x = F.relu(x)\n",
    "        return x\n"
   ]
  },
  {
   "cell_type": "code",
   "execution_count": 4,
   "metadata": {},
   "outputs": [
    {
     "name": "stderr",
     "output_type": "stream",
     "text": [
      "Some weights of the model checkpoint at bert-base-uncased were not used when initializing BertModel: ['cls.predictions.transform.dense.bias', 'cls.predictions.bias', 'cls.predictions.transform.dense.weight', 'cls.seq_relationship.bias', 'cls.predictions.transform.LayerNorm.weight', 'cls.predictions.transform.LayerNorm.bias', 'cls.seq_relationship.weight']\n",
      "- This IS expected if you are initializing BertModel from the checkpoint of a model trained on another task or with another architecture (e.g. initializing a BertForSequenceClassification model from a BertForPreTraining model).\n",
      "- This IS NOT expected if you are initializing BertModel from the checkpoint of a model that you expect to be exactly identical (initializing a BertForSequenceClassification model from a BertForSequenceClassification model).\n"
     ]
    }
   ],
   "source": [
    "# Load the large language model (LLM)\n",
    "llm_model = BertModel.from_pretrained('bert-base-uncased')\n",
    "tokenizer = BertTokenizer.from_pretrained('bert-base-uncased')\n",
    "\n",
    "# Assuming input size and output size for the simple encoder\n",
    "input_size_encoder = 50\n",
    "output_size_encoder = 64\n",
    "# Load the recommendation encoder\n",
    "encoder_model = SimpleEncoder(input_size_encoder, output_size_encoder)  # Replace 'YourEncoderModel' with the name of the encoder model you're using\n",
    "# encoder_model.load_state_dict(torch.load('path_to_encoder_model.pth'))  # Load pre-trained weights\n",
    "\n",
    "\n",
    "# Freeze the parameters of the LLM and recommendation encoder\n",
    "for param in llm_model.parameters():\n",
    "    param.requires_grad = False\n",
    "\n",
    "for param in encoder_model.parameters():\n",
    "    param.requires_grad = False"
   ]
  },
  {
   "cell_type": "code",
   "execution_count": 7,
   "metadata": {},
   "outputs": [],
   "source": [
    "\n",
    "\n",
    "# Define the MLP projection layer to align the recommendation encoder with the LLM\n",
    "input_size = encoder_model.output_size  # Output size of the recommendation encoder\n",
    "hidden_size = output_size_encoder  # Define your desired hidden size\n",
    "num_layers = 5\n",
    "batch_size = 128\n",
    "mlp_projection = MLPProjection(input_size, hidden_size, num_layers)\n",
    "\n",
    "# Example input and target\n",
    "system_command = \"your_system_command\"\n",
    "user_query = \"user_query\"\n",
    "user_features = torch.randn(batch_size, input_size)  # Assuming user features are represented as a tensor\n",
    "target = torch.randn(batch_size, hidden_size)  # Assuming a random target for demonstration"
   ]
  },
  {
   "cell_type": "code",
   "execution_count": 8,
   "metadata": {},
   "outputs": [
    {
     "ename": "RuntimeError",
     "evalue": "Sizes of tensors must match except in dimension 1. Expected size 1 but got size 128 for tensor number 1 in the list.",
     "output_type": "error",
     "traceback": [
      "\u001b[0;31m---------------------------------------------------------------------------\u001b[0m",
      "\u001b[0;31mRuntimeError\u001b[0m                              Traceback (most recent call last)",
      "Cell \u001b[0;32mIn[8], line 18\u001b[0m\n\u001b[1;32m     16\u001b[0m \u001b[38;5;66;03m# Encode user query and concatenate with aligned user features\u001b[39;00m\n\u001b[1;32m     17\u001b[0m encoded_user_query \u001b[38;5;241m=\u001b[39m tokenizer\u001b[38;5;241m.\u001b[39mencode(system_command, user_query, add_special_tokens\u001b[38;5;241m=\u001b[39m\u001b[38;5;28;01mTrue\u001b[39;00m, max_length\u001b[38;5;241m=\u001b[39m\u001b[38;5;241m512\u001b[39m, truncation\u001b[38;5;241m=\u001b[39m\u001b[38;5;28;01mTrue\u001b[39;00m, return_tensors\u001b[38;5;241m=\u001b[39m\u001b[38;5;124m\"\u001b[39m\u001b[38;5;124mpt\u001b[39m\u001b[38;5;124m\"\u001b[39m)\n\u001b[0;32m---> 18\u001b[0m combined_tensor \u001b[38;5;241m=\u001b[39m \u001b[43mtorch\u001b[49m\u001b[38;5;241;43m.\u001b[39;49m\u001b[43mcat\u001b[49m\u001b[43m(\u001b[49m\u001b[43m(\u001b[49m\u001b[43mencoded_user_query\u001b[49m\u001b[43m,\u001b[49m\u001b[43m \u001b[49m\u001b[43muser_features_aligned\u001b[49m\u001b[43m)\u001b[49m\u001b[43m,\u001b[49m\u001b[43m \u001b[49m\u001b[43mdim\u001b[49m\u001b[38;5;241;43m=\u001b[39;49m\u001b[38;5;241;43m1\u001b[39;49m\u001b[43m)\u001b[49m\u001b[38;5;241m.\u001b[39mlong()\n\u001b[1;32m     21\u001b[0m \u001b[38;5;66;03m# Process inputs through LLM\u001b[39;00m\n\u001b[1;32m     22\u001b[0m llm_outputs \u001b[38;5;241m=\u001b[39m llm_model(combined_tensor)\n",
      "\u001b[0;31mRuntimeError\u001b[0m: Sizes of tensors must match except in dimension 1. Expected size 1 but got size 128 for tensor number 1 in the list."
     ]
    }
   ],
   "source": [
    "# Define loss function and optimizer\n",
    "criterion = nn.MSELoss()\n",
    "optimizer = optim.Adam(mlp_projection.parameters(), lr=0.001)\n",
    "\n",
    "# Training loop\n",
    "num_epochs = 10\n",
    "# Define special tokens\n",
    "CLS_token_id = tokenizer.cls_token_id  # Get the ID of the [CLS] token\n",
    "SEP_token_id = tokenizer.sep_token_id  # Get the ID of the [SEP] token\n",
    "for epoch in range(num_epochs):\n",
    "    optimizer.zero_grad()\n",
    "\n",
    "    # Pass user features through MLP projection layer\n",
    "    user_features_aligned = mlp_projection(user_features)\n",
    "\n",
    "    # Encode user query and concatenate with aligned user features\n",
    "    encoded_user_query = tokenizer.encode(system_command, user_query, add_special_tokens=True, max_length=512, truncation=True, return_tensors=\"pt\")\n",
    "    combined_tensor = torch.cat((encoded_user_query, user_features_aligned), dim=1).long()\n",
    "    # Process inputs through LLM\n",
    "    llm_outputs = llm_model(combined_tensor)\n",
    "\n",
    "    # Compute loss\n",
    "    loss = criterion(user_features_aligned, target)\n",
    "\n",
    "    # Backpropagation\n",
    "    loss.backward()\n",
    "    optimizer.step()\n",
    "\n",
    "    # Print training statistics\n",
    "    print(f'Epoch [{epoch + 1}/{num_epochs}], Loss: {loss.item()}')"
   ]
  }
 ],
 "metadata": {
  "kernelspec": {
   "display_name": "lavis",
   "language": "python",
   "name": "python3"
  },
  "language_info": {
   "codemirror_mode": {
    "name": "ipython",
    "version": 3
   },
   "file_extension": ".py",
   "mimetype": "text/x-python",
   "name": "python",
   "nbconvert_exporter": "python",
   "pygments_lexer": "ipython3",
   "version": "3.8.18"
  }
 },
 "nbformat": 4,
 "nbformat_minor": 2
}
